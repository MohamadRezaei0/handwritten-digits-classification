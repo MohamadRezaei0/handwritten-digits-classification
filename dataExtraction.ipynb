{
 "cells": [
  {
   "cell_type": "code",
   "execution_count": 2,
   "metadata": {},
   "outputs": [],
   "source": [
    "import cv2\n",
    "import glob\n",
    "import os"
   ]
  },
  {
   "cell_type": "code",
   "execution_count": 3,
   "metadata": {},
   "outputs": [],
   "source": [
    "test_src = 'rawTest path'\n",
    "train_src = 'rawTrain path'\n",
    "test_dir = 'Extracted Test data path'\n",
    "train_dir = 'Extracted Train data path'"
   ]
  },
  {
   "cell_type": "code",
   "execution_count": 4,
   "metadata": {},
   "outputs": [],
   "source": [
    "def find_numbers(image_path):\n",
    "    \"\"\"\n",
    "    Function to find contours related to digits.\n",
    "    Arguments:\n",
    "        image_path {str} --\n",
    "    Returns:\n",
    "        res {list} -- list of correct contours\n",
    "    \"\"\"\n",
    "    res = []\n",
    "#     data set images size\n",
    "    IMG_SIZE = (25, 25)\n",
    "    \n",
    "    image_org = cv2.imread(image_path)\n",
    "    image = cv2.cvtColor(image_org, cv2.COLOR_BGR2GRAY)\n",
    "#     denoising images\n",
    "    image = cv2.GaussianBlur(image, (3, 3), 0)\n",
    "    cv2.resize(image, (1500, 1500))\n",
    "    ret, thresh = cv2.threshold(image, 125, 255, cv2.THRESH_BINARY)\n",
    "    dilate = cv2.dilate(thresh, None, iterations = 2)\n",
    "    contours, _ = cv2.findContours(dilate.copy(), cv2.RETR_EXTERNAL, cv2.CHAIN_APPROX_SIMPLE)\n",
    "\n",
    "    failed = 0\n",
    "    for contour in contours:\n",
    "        if cv2.contourArea(contour) < 100:\n",
    "            continue\n",
    "        x, y, w, h = cv2.boundingRect(contour)\n",
    "        x_ = int(w/4)\n",
    "        y_ = int(h/4)\n",
    "        x -= x_; y -= y_\n",
    "        w += x_; h += y_\n",
    "        data = image[y:y+h, x:x+w]\n",
    "#         cv2.rectangle(image_org, (x, y), (x+w, y+h), (0, 255 ,0), 1)\n",
    "        try:\n",
    "            data = cv2.resize(data, IMG_SIZE)\n",
    "        except:\n",
    "#           Wrong contours\n",
    "            failed += 1\n",
    "        res.append(data)\n",
    "#     cv2.imwrite('Desktop/digit_clustering/{}'.format(image_path), image_org)\n",
    "    print('{} numbers were found out of {} contours.'.format(len(contours)-failed, len(contours)))\n",
    "    return res"
   ]
  },
  {
   "cell_type": "code",
   "execution_count": 5,
   "metadata": {},
   "outputs": [],
   "source": [
    "def build_dataSet(src, dst, inputformat, outputformat):\n",
    "    SEP = '/'\n",
    "    files = glob.glob(os.path.join(src, '*.{}'.format(inputformat)))\n",
    "    for i, file in enumerate(files):\n",
    "        print(file)\n",
    "        images = find_numbers(file)\n",
    "\n",
    "        folder_name = file.split(SEP)[-1]\n",
    "        path = os.path.join(dst, folder_name.split(SEP)[-1][-5])\n",
    "        os.mkdir(path)\n",
    "        for c, image in enumerate(images):\n",
    "            try:\n",
    "                cv2.imwrite(path + '{}{}.{}'.format(SEP, c, outputformat), image)\n",
    "            except:\n",
    "                pass"
   ]
  },
  {
   "cell_type": "code",
   "execution_count": 8,
   "metadata": {},
   "outputs": [],
   "source": [
    "inputformat = 'jpg'\n",
    "outputformat = 'png'\n",
    "\n",
    "build_dataSet(test_src, test_dir, inputformat, outputformat)\n",
    "build_dataSet(train_src, train_dir, inputformat, outputformat)"
   ]
  },
  {
   "cell_type": "code",
   "execution_count": null,
   "metadata": {},
   "outputs": [],
   "source": []
  }
 ],
 "metadata": {
  "kernelspec": {
   "display_name": "Python 3",
   "language": "python",
   "name": "python3"
  },
  "language_info": {
   "codemirror_mode": {
    "name": "ipython",
    "version": 3
   },
   "file_extension": ".py",
   "mimetype": "text/x-python",
   "name": "python",
   "nbconvert_exporter": "python",
   "pygments_lexer": "ipython3",
   "version": "3.7.4"
  }
 },
 "nbformat": 4,
 "nbformat_minor": 4
}
