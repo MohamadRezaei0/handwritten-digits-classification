{
 "cells": [
  {
   "cell_type": "code",
   "execution_count": 23,
   "metadata": {},
   "outputs": [],
   "source": [
    "import os\n",
    "import cv2\n",
    "import numpy as np\n",
    "from sklearn import utils\n",
    "import tensorflow as tf\n",
    "from tensorflow import keras\n",
    "import matplotlib.pyplot as plt"
   ]
  },
  {
   "cell_type": "code",
   "execution_count": 11,
   "metadata": {},
   "outputs": [],
   "source": [
    "def create_labeled_data(data_dir):\n",
    "    data = []\n",
    "    label = []\n",
    "    digits = [0, 1, 2, 3, 4, 5, 6, 7, 8, 9]\n",
    "    for digit in digits:\n",
    "        # print(digit)\n",
    "        path = os.path.join(data_dir, str(digit))\n",
    "        print(path)\n",
    "        for img in os.listdir(path):\n",
    "            try:\n",
    "                img_array = cv2.imread(os.path.join(path, img), cv2.IMREAD_GRAYSCALE)\n",
    "                # img_array = np.array(img_array).reshape(-1)\n",
    "                data.append(np.array(img_array))\n",
    "                label.append(digit)\n",
    "            except:\n",
    "                pass\n",
    "    shuffler = np.random.permutation(len(data))\n",
    "    return utils.shuffle(data, label)\n",
    "   "
   ]
  },
  {
   "cell_type": "code",
   "execution_count": 13,
   "metadata": {},
   "outputs": [
    {
     "name": "stdout",
     "output_type": "stream",
     "text": [
      "C:/Users/Mohammad/Desktop/digit_clustering/Test\\0\n",
      "C:/Users/Mohammad/Desktop/digit_clustering/Test\\1\n",
      "C:/Users/Mohammad/Desktop/digit_clustering/Test\\2\n",
      "C:/Users/Mohammad/Desktop/digit_clustering/Test\\3\n",
      "C:/Users/Mohammad/Desktop/digit_clustering/Test\\4\n",
      "C:/Users/Mohammad/Desktop/digit_clustering/Test\\5\n",
      "C:/Users/Mohammad/Desktop/digit_clustering/Test\\6\n",
      "C:/Users/Mohammad/Desktop/digit_clustering/Test\\7\n",
      "C:/Users/Mohammad/Desktop/digit_clustering/Test\\8\n",
      "C:/Users/Mohammad/Desktop/digit_clustering/Test\\9\n",
      "C:/Users/Mohammad/Desktop/digit_clustering/Train\\0\n",
      "C:/Users/Mohammad/Desktop/digit_clustering/Train\\1\n",
      "C:/Users/Mohammad/Desktop/digit_clustering/Train\\2\n",
      "C:/Users/Mohammad/Desktop/digit_clustering/Train\\3\n",
      "C:/Users/Mohammad/Desktop/digit_clustering/Train\\4\n",
      "C:/Users/Mohammad/Desktop/digit_clustering/Train\\5\n",
      "C:/Users/Mohammad/Desktop/digit_clustering/Train\\6\n",
      "C:/Users/Mohammad/Desktop/digit_clustering/Train\\7\n",
      "C:/Users/Mohammad/Desktop/digit_clustering/Train\\8\n",
      "C:/Users/Mohammad/Desktop/digit_clustering/Train\\9\n",
      "(58857, 25, 25)\n",
      "(9592, 25, 25)\n"
     ]
    }
   ],
   "source": [
    "test_data_dir = 'C:/Users/Mohammad/Desktop/digit_clustering/Test'\n",
    "train_data_dir = 'C:/Users/Mohammad/Desktop/digit_clustering/Train'\n",
    "\n",
    "x_test, y_test = create_labeled_data(test_data_dir)\n",
    "x_train, y_train = create_labeled_data(train_data_dir)\n",
    "\n",
    "x_train = np.array(x_train)\n",
    "y_train = np.array(y_train)\n",
    "\n",
    "x_test = np.array(x_test)\n",
    "y_test = np.array(y_test)\n",
    "\n",
    "print(x_train.shape)\n",
    "print(x_test.shape)"
   ]
  },
  {
   "cell_type": "code",
   "execution_count": 17,
   "metadata": {},
   "outputs": [],
   "source": [
    "model = tf.keras.Sequential([\n",
    "  keras.layers.Flatten(input_shape=(25, 25)), \n",
    "  keras.layers.Dense(128, activation='relu'),\n",
    "  keras.layers.Dense(10)])\n",
    "\n",
    "model.compile(optimizer='adam',\n",
    "              loss=tf.keras.losses.SparseCategoricalCrossentropy(from_logits=True),\n",
    "              metrics=['accuracy'])"
   ]
  },
  {
   "cell_type": "code",
   "execution_count": 19,
   "metadata": {},
   "outputs": [
    {
     "name": "stdout",
     "output_type": "stream",
     "text": [
      "Epoch 1/15\n",
      "1840/1840 [==============================] - 2s 1ms/step - loss: 2.0382 - accuracy: 0.8800\n",
      "Epoch 2/15\n",
      "1840/1840 [==============================] - 2s 933us/step - loss: 0.3560 - accuracy: 0.9146\n",
      "Epoch 3/15\n",
      "1840/1840 [==============================] - 2s 898us/step - loss: 0.2702 - accuracy: 0.9297\n",
      "Epoch 4/15\n",
      "1840/1840 [==============================] - 2s 879us/step - loss: 0.2418 - accuracy: 0.9361\n",
      "Epoch 5/15\n",
      "1840/1840 [==============================] - 2s 959us/step - loss: 0.2154 - accuracy: 0.9420\n",
      "Epoch 6/15\n",
      "1840/1840 [==============================] - 2s 971us/step - loss: 0.2069 - accuracy: 0.9450\n",
      "Epoch 7/15\n",
      "1840/1840 [==============================] - 2s 1ms/step - loss: 0.1993 - accuracy: 0.9477\n",
      "Epoch 8/15\n",
      "1840/1840 [==============================] - 2s 1ms/step - loss: 0.1860 - accuracy: 0.9517\n",
      "Epoch 9/15\n",
      "1840/1840 [==============================] - 2s 989us/step - loss: 0.1847 - accuracy: 0.9519\n",
      "Epoch 10/15\n",
      "1840/1840 [==============================] - 2s 875us/step - loss: 0.1759 - accuracy: 0.9541\n",
      "Epoch 11/15\n",
      "1840/1840 [==============================] - 2s 844us/step - loss: 0.1741 - accuracy: 0.9551\n",
      "Epoch 12/15\n",
      "1840/1840 [==============================] - 2s 898us/step - loss: 0.1758 - accuracy: 0.9547\n",
      "Epoch 13/15\n",
      "1840/1840 [==============================] - 2s 971us/step - loss: 0.1695 - accuracy: 0.9551\n",
      "Epoch 14/15\n",
      "1840/1840 [==============================] - 2s 962us/step - loss: 0.1677 - accuracy: 0.9579\n",
      "Epoch 15/15\n",
      "1840/1840 [==============================] - 2s 907us/step - loss: 0.1672 - accuracy: 0.9565\n"
     ]
    },
    {
     "data": {
      "text/plain": [
       "<tensorflow.python.keras.callbacks.History at 0x1a125d69288>"
      ]
     },
     "execution_count": 19,
     "metadata": {},
     "output_type": "execute_result"
    }
   ],
   "source": [
    "model.fit(x_train, y_train, epochs=15)"
   ]
  },
  {
   "cell_type": "code",
   "execution_count": 21,
   "metadata": {},
   "outputs": [
    {
     "name": "stdout",
     "output_type": "stream",
     "text": [
      "300/300 - 0s - loss: 0.2248 - accuracy: 0.9499\n",
      "\n",
      "Test accuracy: 0.9498540163040161\n"
     ]
    }
   ],
   "source": [
    "test_loss, test_acc = model.evaluate(x_test,  y_test, verbose=2)\n",
    "print('\\nTest accuracy:', test_acc)"
   ]
  },
  {
   "cell_type": "code",
   "execution_count": 35,
   "metadata": {},
   "outputs": [],
   "source": [
    "predictions = model.predict(x_test)\n",
    "def plot_image(i, predictions_array, true_label, img):\n",
    "  class_names = ['0', '1', '2', '3', '4', '5', '6', '7', '8', '9']\n",
    "  true_label, img = true_label[i], img[i]\n",
    "  plt.grid(False)\n",
    "  plt.xticks([])\n",
    "  plt.yticks([])\n",
    "\n",
    "  plt.imshow(img, cmap=plt.cm.binary)\n",
    "\n",
    "  predicted_label = np.argmax(predictions_array)\n",
    "  if predicted_label == true_label:\n",
    "    color = 'blue'\n",
    "  else:\n",
    "    color = 'red'\n",
    "\n",
    "  plt.xlabel(\"{} {:2.0f}% ({})\".format(class_names[predicted_label],\n",
    "                                100*np.max(predictions_array),\n",
    "                                class_names[true_label]),\n",
    "                                color=color)\n",
    "def plot_value_array(i, predictions_array, true_label):\n",
    "  true_label = true_label[i]\n",
    "  plt.grid(False)\n",
    "  plt.xticks(range(10))\n",
    "  plt.yticks([])\n",
    "  thisplot = plt.bar(range(10), predictions_array, color=\"#777777\")\n",
    "  plt.ylim([0, 1])\n",
    "  predicted_label = np.argmax(predictions_array)\n",
    "\n",
    "  thisplot[predicted_label].set_color('red')\n",
    "  thisplot[true_label].set_color('blue')"
   ]
  },
  {
   "cell_type": "code",
   "execution_count": 36,
   "metadata": {},
   "outputs": [
    {
     "data": {
      "image/png": "[encoded data removed]",
      "text/plain": [
       "<Figure size 432x288 with 24 Axes>"
      ]
     },
     "metadata": {
      "needs_background": "light"
     },
     "output_type": "display_data"
    }
   ],
   "source": [
    "num_rows = 4\n",
    "num_cols = 3\n",
    "for i in range(num_rows*num_cols):\n",
    "    plt.subplot(num_rows, 2*num_cols, 2*i+1)\n",
    "    plot_image(i, predictions[i], y_test, x_test)\n",
    "    plt.subplot(num_rows, 2*num_cols, 2*i+2)\n",
    "    plot_value_array(i, predictions[i], y_test)\n",
    "plt.tight_layout()\n",
    "plt.show()"
   ]
  },
  {
   "cell_type": "code",
   "execution_count": null,
   "metadata": {},
   "outputs": [],
   "source": []
  }
 ],
 "metadata": {
  "kernelspec": {
   "display_name": "Python 3",
   "language": "python",
   "name": "python3"
  },
  "language_info": {
   "codemirror_mode": {
    "name": "ipython",
    "version": 3
   },
   "file_extension": ".py",
   "mimetype": "text/x-python",
   "name": "python",
   "nbconvert_exporter": "python",
   "pygments_lexer": "ipython3",
   "version": "3.7.4"
  }
 },
 "nbformat": 4,
 "nbformat_minor": 4
}
